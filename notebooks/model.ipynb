{
 "cells": [
  {
   "cell_type": "code",
   "execution_count": 140,
   "metadata": {
    "collapsed": true
   },
   "outputs": [],
   "source": [
    "import pandas as  pd"
   ]
  },
  {
   "cell_type": "code",
   "execution_count": 141,
   "outputs": [],
   "source": [
    "bio = pd.read_csv('../data/all_womens_foil_fencer_bio_data_May_13_2021_cleaned.csv', index_col='id')\n",
    "rank = pd.read_csv('../data/all_womens_foil_fencer_rankings_data_May_13_2021_cleaned.csv')\n",
    "bouts = pd.read_csv('../data/all_womens_foil_bout_data_May_13_2021_cleaned.csv')\n",
    "tournament = pd.read_csv('../data/all_womens_foil_tournament_data_May_13_2021_cleaned.csv')"
   ],
   "metadata": {
    "collapsed": false
   }
  },
  {
   "cell_type": "markdown",
   "source": [
    "## Setup Bio Table"
   ],
   "metadata": {
    "collapsed": false
   }
  },
  {
   "cell_type": "code",
   "execution_count": 142,
   "outputs": [
    {
     "data": {
      "text/plain": "                                 name country_code       country   hand  age  \\\nid                                                                             \n28761                    DVORKIN Mary          ISR        ISRAEL   Left   24   \n43803                         SHI Yue          CHN         CHINA  Right   22   \n46080                    TANG Nga Hei          MAC  MACAO, CHINA  Right   20   \n46481  WONAME Kelsey Victoria Afriyie          GHA         GHANA  Right   17   \n47075              BRECHERET Carolina          BRA        BRAZIL  Right   16   \n\n                                  url        date_accessed  \nid                                                          \n28761  https://fie.org/athletes/28761  2021-05-13 21:42:17  \n43803  https://fie.org/athletes/43803  2021-05-13 21:35:13  \n46080  https://fie.org/athletes/46080  2021-05-13 21:46:21  \n46481  https://fie.org/athletes/46481  2021-05-13 21:48:14  \n47075  https://fie.org/athletes/47075  2021-05-13 21:50:07  ",
      "text/html": "<div>\n<style scoped>\n    .dataframe tbody tr th:only-of-type {\n        vertical-align: middle;\n    }\n\n    .dataframe tbody tr th {\n        vertical-align: top;\n    }\n\n    .dataframe thead th {\n        text-align: right;\n    }\n</style>\n<table border=\"1\" class=\"dataframe\">\n  <thead>\n    <tr style=\"text-align: right;\">\n      <th></th>\n      <th>name</th>\n      <th>country_code</th>\n      <th>country</th>\n      <th>hand</th>\n      <th>age</th>\n      <th>url</th>\n      <th>date_accessed</th>\n    </tr>\n    <tr>\n      <th>id</th>\n      <th></th>\n      <th></th>\n      <th></th>\n      <th></th>\n      <th></th>\n      <th></th>\n      <th></th>\n    </tr>\n  </thead>\n  <tbody>\n    <tr>\n      <th>28761</th>\n      <td>DVORKIN Mary</td>\n      <td>ISR</td>\n      <td>ISRAEL</td>\n      <td>Left</td>\n      <td>24</td>\n      <td>https://fie.org/athletes/28761</td>\n      <td>2021-05-13 21:42:17</td>\n    </tr>\n    <tr>\n      <th>43803</th>\n      <td>SHI Yue</td>\n      <td>CHN</td>\n      <td>CHINA</td>\n      <td>Right</td>\n      <td>22</td>\n      <td>https://fie.org/athletes/43803</td>\n      <td>2021-05-13 21:35:13</td>\n    </tr>\n    <tr>\n      <th>46080</th>\n      <td>TANG Nga Hei</td>\n      <td>MAC</td>\n      <td>MACAO, CHINA</td>\n      <td>Right</td>\n      <td>20</td>\n      <td>https://fie.org/athletes/46080</td>\n      <td>2021-05-13 21:46:21</td>\n    </tr>\n    <tr>\n      <th>46481</th>\n      <td>WONAME Kelsey Victoria Afriyie</td>\n      <td>GHA</td>\n      <td>GHANA</td>\n      <td>Right</td>\n      <td>17</td>\n      <td>https://fie.org/athletes/46481</td>\n      <td>2021-05-13 21:48:14</td>\n    </tr>\n    <tr>\n      <th>47075</th>\n      <td>BRECHERET Carolina</td>\n      <td>BRA</td>\n      <td>BRAZIL</td>\n      <td>Right</td>\n      <td>16</td>\n      <td>https://fie.org/athletes/47075</td>\n      <td>2021-05-13 21:50:07</td>\n    </tr>\n  </tbody>\n</table>\n</div>"
     },
     "execution_count": 142,
     "metadata": {},
     "output_type": "execute_result"
    }
   ],
   "source": [
    "bio.head()"
   ],
   "metadata": {
    "collapsed": false
   }
  },
  {
   "cell_type": "code",
   "execution_count": 143,
   "outputs": [],
   "source": [
    "bio = bio.drop(['name', 'url', 'date_accessed', 'country_code', 'age'], axis=1)\n",
    "bio.rename(columns={'count': 'country'})\n",
    "\n",
    "# Convert cols to a category\n",
    "for c in bio.columns:\n",
    "    bio[c] = bio[c].astype('category').cat.codes"
   ],
   "metadata": {
    "collapsed": false
   }
  },
  {
   "cell_type": "code",
   "execution_count": 144,
   "outputs": [
    {
     "data": {
      "text/plain": "       country  hand\nid                  \n28761       49     0\n43803       20     1\n46080       59     1\n46481       38     1\n47075       14     1",
      "text/html": "<div>\n<style scoped>\n    .dataframe tbody tr th:only-of-type {\n        vertical-align: middle;\n    }\n\n    .dataframe tbody tr th {\n        vertical-align: top;\n    }\n\n    .dataframe thead th {\n        text-align: right;\n    }\n</style>\n<table border=\"1\" class=\"dataframe\">\n  <thead>\n    <tr style=\"text-align: right;\">\n      <th></th>\n      <th>country</th>\n      <th>hand</th>\n    </tr>\n    <tr>\n      <th>id</th>\n      <th></th>\n      <th></th>\n    </tr>\n  </thead>\n  <tbody>\n    <tr>\n      <th>28761</th>\n      <td>49</td>\n      <td>0</td>\n    </tr>\n    <tr>\n      <th>43803</th>\n      <td>20</td>\n      <td>1</td>\n    </tr>\n    <tr>\n      <th>46080</th>\n      <td>59</td>\n      <td>1</td>\n    </tr>\n    <tr>\n      <th>46481</th>\n      <td>38</td>\n      <td>1</td>\n    </tr>\n    <tr>\n      <th>47075</th>\n      <td>14</td>\n      <td>1</td>\n    </tr>\n  </tbody>\n</table>\n</div>"
     },
     "execution_count": 144,
     "metadata": {},
     "output_type": "execute_result"
    }
   ],
   "source": [
    "bio.head()"
   ],
   "metadata": {
    "collapsed": false
   }
  },
  {
   "cell_type": "markdown",
   "source": [
    "## Setup Bouts table"
   ],
   "metadata": {
    "collapsed": false
   }
  },
  {
   "cell_type": "code",
   "execution_count": 145,
   "outputs": [
    {
     "name": "stdout",
     "output_type": "stream",
     "text": [
      "<class 'pandas.core.frame.DataFrame'>\n",
      "RangeIndex: 49131 entries, 0 to 49130\n",
      "Data columns (total 13 columns):\n",
      " #   Column           Non-Null Count  Dtype  \n",
      "---  ------           --------------  -----  \n",
      " 0   fencer_ID        49131 non-null  int64  \n",
      " 1   opp_ID           49131 non-null  int64  \n",
      " 2   fencer_age       49131 non-null  int64  \n",
      " 3   opp_age          49131 non-null  int64  \n",
      " 4   fencer_score     49131 non-null  int64  \n",
      " 5   opp_score        49131 non-null  int64  \n",
      " 6   winner_ID        49131 non-null  int64  \n",
      " 7   fencer_curr_pts  49131 non-null  float64\n",
      " 8   opp_curr_pts     49131 non-null  float64\n",
      " 9   tournament_ID    49131 non-null  object \n",
      " 10  pool_ID          49131 non-null  int64  \n",
      " 11  upset            49131 non-null  bool   \n",
      " 12  date             49131 non-null  object \n",
      "dtypes: bool(1), float64(2), int64(8), object(2)\n",
      "memory usage: 4.5+ MB\n"
     ]
    }
   ],
   "source": [
    "bouts.info()"
   ],
   "metadata": {
    "collapsed": false
   }
  },
  {
   "cell_type": "code",
   "execution_count": 146,
   "outputs": [],
   "source": [
    "bouts_df = bouts.copy()"
   ],
   "metadata": {
    "collapsed": false
   }
  },
  {
   "cell_type": "code",
   "execution_count": 147,
   "outputs": [],
   "source": [
    "# Convert winner_ID to first_wins\n",
    "bouts_df['first_wins'] = bouts_df['fencer_ID'] == bouts_df['winner_ID']\n",
    "bouts_df['first_wins'] = bouts_df['first_wins'].astype('category')"
   ],
   "metadata": {
    "collapsed": false
   }
  },
  {
   "cell_type": "code",
   "execution_count": 148,
   "outputs": [
    {
     "name": "stdout",
     "output_type": "stream",
     "text": [
      "<class 'pandas.core.frame.DataFrame'>\n",
      "RangeIndex: 49131 entries, 0 to 49130\n",
      "Data columns (total 14 columns):\n",
      " #   Column           Non-Null Count  Dtype   \n",
      "---  ------           --------------  -----   \n",
      " 0   fencer_ID        49131 non-null  int64   \n",
      " 1   opp_ID           49131 non-null  int64   \n",
      " 2   fencer_age       49131 non-null  int64   \n",
      " 3   opp_age          49131 non-null  int64   \n",
      " 4   fencer_score     49131 non-null  int64   \n",
      " 5   opp_score        49131 non-null  int64   \n",
      " 6   winner_ID        49131 non-null  int64   \n",
      " 7   fencer_curr_pts  49131 non-null  float64 \n",
      " 8   opp_curr_pts     49131 non-null  float64 \n",
      " 9   tournament_ID    49131 non-null  object  \n",
      " 10  pool_ID          49131 non-null  int64   \n",
      " 11  upset            49131 non-null  bool    \n",
      " 12  date             49131 non-null  object  \n",
      " 13  first_wins       49131 non-null  category\n",
      "dtypes: bool(1), category(1), float64(2), int64(8), object(2)\n",
      "memory usage: 4.6+ MB\n"
     ]
    }
   ],
   "source": [
    "bouts_df.info()"
   ],
   "metadata": {
    "collapsed": false
   }
  },
  {
   "cell_type": "code",
   "execution_count": 149,
   "outputs": [],
   "source": [
    "# Trim and rename bouts columns\n",
    "bouts_df = bouts_df.drop(['winner_ID', 'date', 'upset', 'pool_ID',\n",
    "                          'fencer_curr_pts', 'opp_curr_pts', 'tournament_ID'], axis=1)\n",
    "bouts_df.rename(columns = {'fencer_age':'bout_age_1', 'opp_age':'bout_age_2', 'fencer_score':'score_1', 'opp_score':'score_2'}, inplace = True)"
   ],
   "metadata": {
    "collapsed": false
   }
  },
  {
   "cell_type": "code",
   "execution_count": 150,
   "outputs": [
    {
     "data": {
      "text/plain": "   fencer_ID  opp_ID  bout_age_1  bout_age_2  score_1  score_2 first_wins\n0      36796   19574          23          28        5        1       True\n1      36796   42147          23          19        5        2       True\n2      36796   49116          23          21        5        2       True\n3      36796   39631          23          18        5        4       True\n4      36796   23447          23          27        4        5      False",
      "text/html": "<div>\n<style scoped>\n    .dataframe tbody tr th:only-of-type {\n        vertical-align: middle;\n    }\n\n    .dataframe tbody tr th {\n        vertical-align: top;\n    }\n\n    .dataframe thead th {\n        text-align: right;\n    }\n</style>\n<table border=\"1\" class=\"dataframe\">\n  <thead>\n    <tr style=\"text-align: right;\">\n      <th></th>\n      <th>fencer_ID</th>\n      <th>opp_ID</th>\n      <th>bout_age_1</th>\n      <th>bout_age_2</th>\n      <th>score_1</th>\n      <th>score_2</th>\n      <th>first_wins</th>\n    </tr>\n  </thead>\n  <tbody>\n    <tr>\n      <th>0</th>\n      <td>36796</td>\n      <td>19574</td>\n      <td>23</td>\n      <td>28</td>\n      <td>5</td>\n      <td>1</td>\n      <td>True</td>\n    </tr>\n    <tr>\n      <th>1</th>\n      <td>36796</td>\n      <td>42147</td>\n      <td>23</td>\n      <td>19</td>\n      <td>5</td>\n      <td>2</td>\n      <td>True</td>\n    </tr>\n    <tr>\n      <th>2</th>\n      <td>36796</td>\n      <td>49116</td>\n      <td>23</td>\n      <td>21</td>\n      <td>5</td>\n      <td>2</td>\n      <td>True</td>\n    </tr>\n    <tr>\n      <th>3</th>\n      <td>36796</td>\n      <td>39631</td>\n      <td>23</td>\n      <td>18</td>\n      <td>5</td>\n      <td>4</td>\n      <td>True</td>\n    </tr>\n    <tr>\n      <th>4</th>\n      <td>36796</td>\n      <td>23447</td>\n      <td>23</td>\n      <td>27</td>\n      <td>4</td>\n      <td>5</td>\n      <td>False</td>\n    </tr>\n  </tbody>\n</table>\n</div>"
     },
     "execution_count": 150,
     "metadata": {},
     "output_type": "execute_result"
    }
   ],
   "source": [
    "bouts_df.head()"
   ],
   "metadata": {
    "collapsed": false
   }
  },
  {
   "cell_type": "markdown",
   "source": [
    "## Join the bouts to the users bio"
   ],
   "metadata": {
    "collapsed": false
   }
  },
  {
   "cell_type": "code",
   "execution_count": 151,
   "outputs": [
    {
     "name": "stdout",
     "output_type": "stream",
     "text": [
      "<class 'pandas.core.frame.DataFrame'>\n",
      "Int64Index: 49131 entries, 0 to 49130\n",
      "Data columns (total 11 columns):\n",
      " #   Column      Non-Null Count  Dtype   \n",
      "---  ------      --------------  -----   \n",
      " 0   fencer_ID   49131 non-null  int64   \n",
      " 1   opp_ID      49131 non-null  int64   \n",
      " 2   bout_age_1  49131 non-null  int64   \n",
      " 3   bout_age_2  49131 non-null  int64   \n",
      " 4   score_1     49131 non-null  int64   \n",
      " 5   score_2     49131 non-null  int64   \n",
      " 6   first_wins  49131 non-null  category\n",
      " 7   country_1   49131 non-null  int8    \n",
      " 8   hand_1      49131 non-null  int8    \n",
      " 9   country_2   49131 non-null  int8    \n",
      " 10  hand_2      49131 non-null  int8    \n",
      "dtypes: category(1), int64(6), int8(4)\n",
      "memory usage: 2.9 MB\n"
     ]
    }
   ],
   "source": [
    "df = bouts_df.merge(bio, left_on='fencer_ID', right_on='id')\n",
    "df = df.rename(columns={col:col+'_1' for col in bio.columns})\n",
    "\n",
    "df = df.merge(bio, left_on='opp_ID', right_on='id')\n",
    "df = df.rename(columns={col:col+'_2' for col in bio.columns})\n",
    "df.info()"
   ],
   "metadata": {
    "collapsed": false
   }
  },
  {
   "cell_type": "code",
   "execution_count": 152,
   "outputs": [],
   "source": [
    "# Drop joiner columns\n",
    "df = df.drop(['fencer_ID', 'opp_ID'], axis=1)"
   ],
   "metadata": {
    "collapsed": false
   }
  },
  {
   "cell_type": "code",
   "execution_count": 153,
   "outputs": [
    {
     "data": {
      "text/plain": "Index(['bout_age_1', 'bout_age_2', 'score_1', 'score_2', 'first_wins',\n       'country_1', 'hand_1', 'country_2', 'hand_2'],\n      dtype='object')"
     },
     "execution_count": 153,
     "metadata": {},
     "output_type": "execute_result"
    }
   ],
   "source": [
    "df.columns"
   ],
   "metadata": {
    "collapsed": false
   }
  },
  {
   "cell_type": "code",
   "execution_count": 154,
   "outputs": [],
   "source": [
    "target = 'first_wins'"
   ],
   "metadata": {
    "collapsed": false
   }
  },
  {
   "cell_type": "code",
   "execution_count": 156,
   "outputs": [
    {
     "data": {
      "text/plain": "   bout_age_1  bout_age_2  score_1  score_2 first_wins  country_1  hand_1  \\\n0          23          28        5        1       True         35       1   \n1          23          28        5        0       True         35       1   \n2          27          28        5        3       True         55       1   \n3          29          28        5        0       True         73       1   \n4          24          28        5        4       True         77       0   \n\n   country_2  hand_2  \n0         27       0  \n1         27       0  \n2         27       0  \n3         27       0  \n4         27       0  ",
      "text/html": "<div>\n<style scoped>\n    .dataframe tbody tr th:only-of-type {\n        vertical-align: middle;\n    }\n\n    .dataframe tbody tr th {\n        vertical-align: top;\n    }\n\n    .dataframe thead th {\n        text-align: right;\n    }\n</style>\n<table border=\"1\" class=\"dataframe\">\n  <thead>\n    <tr style=\"text-align: right;\">\n      <th></th>\n      <th>bout_age_1</th>\n      <th>bout_age_2</th>\n      <th>score_1</th>\n      <th>score_2</th>\n      <th>first_wins</th>\n      <th>country_1</th>\n      <th>hand_1</th>\n      <th>country_2</th>\n      <th>hand_2</th>\n    </tr>\n  </thead>\n  <tbody>\n    <tr>\n      <th>0</th>\n      <td>23</td>\n      <td>28</td>\n      <td>5</td>\n      <td>1</td>\n      <td>True</td>\n      <td>35</td>\n      <td>1</td>\n      <td>27</td>\n      <td>0</td>\n    </tr>\n    <tr>\n      <th>1</th>\n      <td>23</td>\n      <td>28</td>\n      <td>5</td>\n      <td>0</td>\n      <td>True</td>\n      <td>35</td>\n      <td>1</td>\n      <td>27</td>\n      <td>0</td>\n    </tr>\n    <tr>\n      <th>2</th>\n      <td>27</td>\n      <td>28</td>\n      <td>5</td>\n      <td>3</td>\n      <td>True</td>\n      <td>55</td>\n      <td>1</td>\n      <td>27</td>\n      <td>0</td>\n    </tr>\n    <tr>\n      <th>3</th>\n      <td>29</td>\n      <td>28</td>\n      <td>5</td>\n      <td>0</td>\n      <td>True</td>\n      <td>73</td>\n      <td>1</td>\n      <td>27</td>\n      <td>0</td>\n    </tr>\n    <tr>\n      <th>4</th>\n      <td>24</td>\n      <td>28</td>\n      <td>5</td>\n      <td>4</td>\n      <td>True</td>\n      <td>77</td>\n      <td>0</td>\n      <td>27</td>\n      <td>0</td>\n    </tr>\n  </tbody>\n</table>\n</div>"
     },
     "execution_count": 156,
     "metadata": {},
     "output_type": "execute_result"
    }
   ],
   "source": [
    "df.head()"
   ],
   "metadata": {
    "collapsed": false
   }
  },
  {
   "cell_type": "code",
   "execution_count": 159,
   "outputs": [
    {
     "name": "stdout",
     "output_type": "stream",
     "text": [
      "Defaulting to user installation because normal site-packages is not writeable\n",
      "Collecting shap\n",
      "  Downloading shap-0.41.0-cp39-cp39-win_amd64.whl (435 kB)\n",
      "Requirement already satisfied: pandas in c:\\programdata\\anaconda3\\lib\\site-packages (from shap) (1.4.2)\n",
      "Requirement already satisfied: scikit-learn in c:\\programdata\\anaconda3\\lib\\site-packages (from shap) (1.0.2)\n",
      "Requirement already satisfied: tqdm>4.25.0 in c:\\programdata\\anaconda3\\lib\\site-packages (from shap) (4.64.0)\n",
      "Requirement already satisfied: scipy in c:\\programdata\\anaconda3\\lib\\site-packages (from shap) (1.7.3)\n",
      "Requirement already satisfied: cloudpickle in c:\\programdata\\anaconda3\\lib\\site-packages (from shap) (2.0.0)\n",
      "Requirement already satisfied: numpy in c:\\programdata\\anaconda3\\lib\\site-packages (from shap) (1.21.5)\n",
      "Requirement already satisfied: numba in c:\\programdata\\anaconda3\\lib\\site-packages (from shap) (0.55.1)\n",
      "Requirement already satisfied: packaging>20.9 in c:\\programdata\\anaconda3\\lib\\site-packages (from shap) (21.3)\n",
      "Collecting slicer==0.0.7\n",
      "  Downloading slicer-0.0.7-py3-none-any.whl (14 kB)\n",
      "Requirement already satisfied: pyparsing!=3.0.5,>=2.0.2 in c:\\programdata\\anaconda3\\lib\\site-packages (from packaging>20.9->shap) (3.0.4)\n",
      "Requirement already satisfied: colorama in c:\\programdata\\anaconda3\\lib\\site-packages (from tqdm>4.25.0->shap) (0.4.4)\n",
      "Requirement already satisfied: setuptools in c:\\programdata\\anaconda3\\lib\\site-packages (from numba->shap) (61.2.0)\n",
      "Requirement already satisfied: llvmlite<0.39,>=0.38.0rc1 in c:\\programdata\\anaconda3\\lib\\site-packages (from numba->shap) (0.38.0)\n",
      "Requirement already satisfied: python-dateutil>=2.8.1 in c:\\programdata\\anaconda3\\lib\\site-packages (from pandas->shap) (2.8.2)\n",
      "Requirement already satisfied: pytz>=2020.1 in c:\\programdata\\anaconda3\\lib\\site-packages (from pandas->shap) (2021.3)\n",
      "Requirement already satisfied: six>=1.5 in c:\\programdata\\anaconda3\\lib\\site-packages (from python-dateutil>=2.8.1->pandas->shap) (1.16.0)\n",
      "Requirement already satisfied: threadpoolctl>=2.0.0 in c:\\programdata\\anaconda3\\lib\\site-packages (from scikit-learn->shap) (2.2.0)\n",
      "Requirement already satisfied: joblib>=0.11 in c:\\users\\gamer\\appdata\\roaming\\python\\python39\\site-packages (from scikit-learn->shap) (1.2.0)\n",
      "Installing collected packages: slicer, shap\n",
      "Successfully installed shap-0.41.0 slicer-0.0.7\n"
     ]
    }
   ],
   "source": [
    "!pip install shap"
   ],
   "metadata": {
    "collapsed": false
   }
  },
  {
   "cell_type": "code",
   "execution_count": 162,
   "outputs": [],
   "source": [
    "from sklearn.ensemble import RandomForestClassifier\n",
    "from sklearn.model_selection import train_test_split\n",
    "import shap"
   ],
   "metadata": {
    "collapsed": false
   }
  },
  {
   "cell_type": "code",
   "execution_count": 194,
   "outputs": [],
   "source": [
    "train, test = train_test_split(df, test_size=.3, shuffle=True)"
   ],
   "metadata": {
    "collapsed": false
   }
  },
  {
   "cell_type": "code",
   "execution_count": 195,
   "outputs": [
    {
     "data": {
      "text/plain": "['bout_age_1',\n 'bout_age_2',\n 'score_1',\n 'score_2',\n 'country_1',\n 'hand_1',\n 'country_2',\n 'hand_2']"
     },
     "execution_count": 195,
     "metadata": {},
     "output_type": "execute_result"
    }
   ],
   "source": [
    "feats = [x for x in df.columns if x != target]\n",
    "feats"
   ],
   "metadata": {
    "collapsed": false
   }
  },
  {
   "cell_type": "code",
   "execution_count": null,
   "outputs": [],
   "source": [
    "X = df[feats]\n",
    "y = df[target]\n",
    "X_train, X_test, Y_train, Y_test = train_test_split(X, y, test_size=0.3, random_state=1234, shuffle=True)"
   ],
   "metadata": {
    "collapsed": false
   }
  },
  {
   "cell_type": "code",
   "execution_count": 196,
   "outputs": [],
   "source": [
    "y_train = train[target]\n",
    "x_train = train[feats]\n",
    "y_test = test[target]\n",
    "x_test = test[feats]"
   ],
   "metadata": {
    "collapsed": false
   }
  },
  {
   "cell_type": "code",
   "execution_count": 205,
   "outputs": [
    {
     "ename": "ValueError",
     "evalue": "Unknown label type: 'unknown'",
     "output_type": "error",
     "traceback": [
      "\u001B[1;31m---------------------------------------------------------------------------\u001B[0m",
      "\u001B[1;31mValueError\u001B[0m                                Traceback (most recent call last)",
      "Input \u001B[1;32mIn [205]\u001B[0m, in \u001B[0;36m<cell line: 2>\u001B[1;34m()\u001B[0m\n\u001B[0;32m      1\u001B[0m model \u001B[38;5;241m=\u001B[39m RandomForestClassifier(n_estimators\u001B[38;5;241m=\u001B[39m\u001B[38;5;241m100\u001B[39m)\n\u001B[1;32m----> 2\u001B[0m \u001B[43mmodel\u001B[49m\u001B[38;5;241;43m.\u001B[39;49m\u001B[43mfit\u001B[49m\u001B[43m(\u001B[49m\u001B[43mX_train\u001B[49m\u001B[43m,\u001B[49m\u001B[43m \u001B[49m\u001B[43mY_train\u001B[49m\u001B[43m)\u001B[49m\n",
      "File \u001B[1;32mC:\\ProgramData\\Anaconda3\\lib\\site-packages\\sklearn\\ensemble\\_forest.py:367\u001B[0m, in \u001B[0;36mBaseForest.fit\u001B[1;34m(self, X, y, sample_weight)\u001B[0m\n\u001B[0;32m    360\u001B[0m         \u001B[38;5;28;01mraise\u001B[39;00m \u001B[38;5;167;01mValueError\u001B[39;00m(\n\u001B[0;32m    361\u001B[0m             \u001B[38;5;124m\"\u001B[39m\u001B[38;5;124mSum of y is not strictly positive which \u001B[39m\u001B[38;5;124m\"\u001B[39m\n\u001B[0;32m    362\u001B[0m             \u001B[38;5;124m\"\u001B[39m\u001B[38;5;124mis necessary for Poisson regression.\u001B[39m\u001B[38;5;124m\"\u001B[39m\n\u001B[0;32m    363\u001B[0m         )\n\u001B[0;32m    365\u001B[0m \u001B[38;5;28mself\u001B[39m\u001B[38;5;241m.\u001B[39mn_outputs_ \u001B[38;5;241m=\u001B[39m y\u001B[38;5;241m.\u001B[39mshape[\u001B[38;5;241m1\u001B[39m]\n\u001B[1;32m--> 367\u001B[0m y, expanded_class_weight \u001B[38;5;241m=\u001B[39m \u001B[38;5;28;43mself\u001B[39;49m\u001B[38;5;241;43m.\u001B[39;49m\u001B[43m_validate_y_class_weight\u001B[49m\u001B[43m(\u001B[49m\u001B[43my\u001B[49m\u001B[43m)\u001B[49m\n\u001B[0;32m    369\u001B[0m \u001B[38;5;28;01mif\u001B[39;00m \u001B[38;5;28mgetattr\u001B[39m(y, \u001B[38;5;124m\"\u001B[39m\u001B[38;5;124mdtype\u001B[39m\u001B[38;5;124m\"\u001B[39m, \u001B[38;5;28;01mNone\u001B[39;00m) \u001B[38;5;241m!=\u001B[39m DOUBLE \u001B[38;5;129;01mor\u001B[39;00m \u001B[38;5;129;01mnot\u001B[39;00m y\u001B[38;5;241m.\u001B[39mflags\u001B[38;5;241m.\u001B[39mcontiguous:\n\u001B[0;32m    370\u001B[0m     y \u001B[38;5;241m=\u001B[39m np\u001B[38;5;241m.\u001B[39mascontiguousarray(y, dtype\u001B[38;5;241m=\u001B[39mDOUBLE)\n",
      "File \u001B[1;32mC:\\ProgramData\\Anaconda3\\lib\\site-packages\\sklearn\\ensemble\\_forest.py:734\u001B[0m, in \u001B[0;36mForestClassifier._validate_y_class_weight\u001B[1;34m(self, y)\u001B[0m\n\u001B[0;32m    733\u001B[0m \u001B[38;5;28;01mdef\u001B[39;00m \u001B[38;5;21m_validate_y_class_weight\u001B[39m(\u001B[38;5;28mself\u001B[39m, y):\n\u001B[1;32m--> 734\u001B[0m     \u001B[43mcheck_classification_targets\u001B[49m\u001B[43m(\u001B[49m\u001B[43my\u001B[49m\u001B[43m)\u001B[49m\n\u001B[0;32m    736\u001B[0m     y \u001B[38;5;241m=\u001B[39m np\u001B[38;5;241m.\u001B[39mcopy(y)\n\u001B[0;32m    737\u001B[0m     expanded_class_weight \u001B[38;5;241m=\u001B[39m \u001B[38;5;28;01mNone\u001B[39;00m\n",
      "File \u001B[1;32mC:\\ProgramData\\Anaconda3\\lib\\site-packages\\sklearn\\utils\\multiclass.py:197\u001B[0m, in \u001B[0;36mcheck_classification_targets\u001B[1;34m(y)\u001B[0m\n\u001B[0;32m    189\u001B[0m y_type \u001B[38;5;241m=\u001B[39m type_of_target(y)\n\u001B[0;32m    190\u001B[0m \u001B[38;5;28;01mif\u001B[39;00m y_type \u001B[38;5;129;01mnot\u001B[39;00m \u001B[38;5;129;01min\u001B[39;00m [\n\u001B[0;32m    191\u001B[0m     \u001B[38;5;124m\"\u001B[39m\u001B[38;5;124mbinary\u001B[39m\u001B[38;5;124m\"\u001B[39m,\n\u001B[0;32m    192\u001B[0m     \u001B[38;5;124m\"\u001B[39m\u001B[38;5;124mmulticlass\u001B[39m\u001B[38;5;124m\"\u001B[39m,\n\u001B[1;32m   (...)\u001B[0m\n\u001B[0;32m    195\u001B[0m     \u001B[38;5;124m\"\u001B[39m\u001B[38;5;124mmultilabel-sequences\u001B[39m\u001B[38;5;124m\"\u001B[39m,\n\u001B[0;32m    196\u001B[0m ]:\n\u001B[1;32m--> 197\u001B[0m     \u001B[38;5;28;01mraise\u001B[39;00m \u001B[38;5;167;01mValueError\u001B[39;00m(\u001B[38;5;124m\"\u001B[39m\u001B[38;5;124mUnknown label type: \u001B[39m\u001B[38;5;132;01m%r\u001B[39;00m\u001B[38;5;124m\"\u001B[39m \u001B[38;5;241m%\u001B[39m y_type)\n",
      "\u001B[1;31mValueError\u001B[0m: Unknown label type: 'unknown'"
     ]
    }
   ],
   "source": [
    "model = RandomForestClassifier(n_estimators=100)\n",
    "model.fit(X_train, Y_train)"
   ],
   "metadata": {
    "collapsed": false
   }
  },
  {
   "cell_type": "code",
   "execution_count": 161,
   "outputs": [],
   "source": [
    "iables with inconsistent numbe"
   ],
   "metadata": {
    "collapsed": false
   }
  },
  {
   "cell_type": "code",
   "execution_count": null,
   "outputs": [],
   "source": [],
   "metadata": {
    "collapsed": false
   }
  }
 ],
 "metadata": {
  "kernelspec": {
   "display_name": "Python 3",
   "language": "python",
   "name": "python3"
  },
  "language_info": {
   "codemirror_mode": {
    "name": "ipython",
    "version": 2
   },
   "file_extension": ".py",
   "mimetype": "text/x-python",
   "name": "python",
   "nbconvert_exporter": "python",
   "pygments_lexer": "ipython2",
   "version": "2.7.6"
  }
 },
 "nbformat": 4,
 "nbformat_minor": 0
}
