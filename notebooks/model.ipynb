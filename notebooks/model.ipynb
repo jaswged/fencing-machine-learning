{
 "cells": [
  {
   "cell_type": "code",
   "execution_count": 2,
   "metadata": {
    "collapsed": true
   },
   "outputs": [],
   "source": [
    "import pandas as  pd"
   ]
  },
  {
   "cell_type": "code",
   "execution_count": 18,
   "outputs": [],
   "source": [
    "bio = pd.read_csv('../data/all_womens_foil_fencer_bio_data_May_13_2021_cleaned.csv', index_col='id')\n",
    "rank = pd.read_csv('../data/all_womens_foil_fencer_rankings_data_May_13_2021_cleaned.csv')\n",
    "bouts = pd.read_csv('../data/all_womens_foil_bout_data_May_13_2021_cleaned.csv')\n",
    "tournament = pd.read_csv('../data/all_womens_foil_tournament_data_May_13_2021_cleaned.csv')"
   ],
   "metadata": {
    "collapsed": false
   }
  },
  {
   "cell_type": "markdown",
   "source": [
    "## Setup Bio Table"
   ],
   "metadata": {
    "collapsed": false
   }
  },
  {
   "cell_type": "code",
   "execution_count": 19,
   "outputs": [
    {
     "data": {
      "text/plain": "                                 name country_code       country   hand  age  \\\nid                                                                             \n28761                    DVORKIN Mary          ISR        ISRAEL   Left   24   \n43803                         SHI Yue          CHN         CHINA  Right   22   \n46080                    TANG Nga Hei          MAC  MACAO, CHINA  Right   20   \n46481  WONAME Kelsey Victoria Afriyie          GHA         GHANA  Right   17   \n47075              BRECHERET Carolina          BRA        BRAZIL  Right   16   \n\n                                  url        date_accessed  \nid                                                          \n28761  https://fie.org/athletes/28761  2021-05-13 21:42:17  \n43803  https://fie.org/athletes/43803  2021-05-13 21:35:13  \n46080  https://fie.org/athletes/46080  2021-05-13 21:46:21  \n46481  https://fie.org/athletes/46481  2021-05-13 21:48:14  \n47075  https://fie.org/athletes/47075  2021-05-13 21:50:07  ",
      "text/html": "<div>\n<style scoped>\n    .dataframe tbody tr th:only-of-type {\n        vertical-align: middle;\n    }\n\n    .dataframe tbody tr th {\n        vertical-align: top;\n    }\n\n    .dataframe thead th {\n        text-align: right;\n    }\n</style>\n<table border=\"1\" class=\"dataframe\">\n  <thead>\n    <tr style=\"text-align: right;\">\n      <th></th>\n      <th>name</th>\n      <th>country_code</th>\n      <th>country</th>\n      <th>hand</th>\n      <th>age</th>\n      <th>url</th>\n      <th>date_accessed</th>\n    </tr>\n    <tr>\n      <th>id</th>\n      <th></th>\n      <th></th>\n      <th></th>\n      <th></th>\n      <th></th>\n      <th></th>\n      <th></th>\n    </tr>\n  </thead>\n  <tbody>\n    <tr>\n      <th>28761</th>\n      <td>DVORKIN Mary</td>\n      <td>ISR</td>\n      <td>ISRAEL</td>\n      <td>Left</td>\n      <td>24</td>\n      <td>https://fie.org/athletes/28761</td>\n      <td>2021-05-13 21:42:17</td>\n    </tr>\n    <tr>\n      <th>43803</th>\n      <td>SHI Yue</td>\n      <td>CHN</td>\n      <td>CHINA</td>\n      <td>Right</td>\n      <td>22</td>\n      <td>https://fie.org/athletes/43803</td>\n      <td>2021-05-13 21:35:13</td>\n    </tr>\n    <tr>\n      <th>46080</th>\n      <td>TANG Nga Hei</td>\n      <td>MAC</td>\n      <td>MACAO, CHINA</td>\n      <td>Right</td>\n      <td>20</td>\n      <td>https://fie.org/athletes/46080</td>\n      <td>2021-05-13 21:46:21</td>\n    </tr>\n    <tr>\n      <th>46481</th>\n      <td>WONAME Kelsey Victoria Afriyie</td>\n      <td>GHA</td>\n      <td>GHANA</td>\n      <td>Right</td>\n      <td>17</td>\n      <td>https://fie.org/athletes/46481</td>\n      <td>2021-05-13 21:48:14</td>\n    </tr>\n    <tr>\n      <th>47075</th>\n      <td>BRECHERET Carolina</td>\n      <td>BRA</td>\n      <td>BRAZIL</td>\n      <td>Right</td>\n      <td>16</td>\n      <td>https://fie.org/athletes/47075</td>\n      <td>2021-05-13 21:50:07</td>\n    </tr>\n  </tbody>\n</table>\n</div>"
     },
     "execution_count": 19,
     "metadata": {},
     "output_type": "execute_result"
    }
   ],
   "source": [
    "bio.head()"
   ],
   "metadata": {
    "collapsed": false
   }
  },
  {
   "cell_type": "code",
   "execution_count": 20,
   "outputs": [],
   "source": [
    "bio = bio.drop(['name', 'url', 'date_accessed', 'country_code'], axis=1)"
   ],
   "metadata": {
    "collapsed": false
   }
  },
  {
   "cell_type": "code",
   "execution_count": 21,
   "outputs": [
    {
     "data": {
      "text/plain": "            country   hand  age\nid                             \n28761        ISRAEL   Left   24\n43803         CHINA  Right   22\n46080  MACAO, CHINA  Right   20\n46481         GHANA  Right   17\n47075        BRAZIL  Right   16",
      "text/html": "<div>\n<style scoped>\n    .dataframe tbody tr th:only-of-type {\n        vertical-align: middle;\n    }\n\n    .dataframe tbody tr th {\n        vertical-align: top;\n    }\n\n    .dataframe thead th {\n        text-align: right;\n    }\n</style>\n<table border=\"1\" class=\"dataframe\">\n  <thead>\n    <tr style=\"text-align: right;\">\n      <th></th>\n      <th>country</th>\n      <th>hand</th>\n      <th>age</th>\n    </tr>\n    <tr>\n      <th>id</th>\n      <th></th>\n      <th></th>\n      <th></th>\n    </tr>\n  </thead>\n  <tbody>\n    <tr>\n      <th>28761</th>\n      <td>ISRAEL</td>\n      <td>Left</td>\n      <td>24</td>\n    </tr>\n    <tr>\n      <th>43803</th>\n      <td>CHINA</td>\n      <td>Right</td>\n      <td>22</td>\n    </tr>\n    <tr>\n      <th>46080</th>\n      <td>MACAO, CHINA</td>\n      <td>Right</td>\n      <td>20</td>\n    </tr>\n    <tr>\n      <th>46481</th>\n      <td>GHANA</td>\n      <td>Right</td>\n      <td>17</td>\n    </tr>\n    <tr>\n      <th>47075</th>\n      <td>BRAZIL</td>\n      <td>Right</td>\n      <td>16</td>\n    </tr>\n  </tbody>\n</table>\n</div>"
     },
     "execution_count": 21,
     "metadata": {},
     "output_type": "execute_result"
    }
   ],
   "source": [
    "bio.head()"
   ],
   "metadata": {
    "collapsed": false
   }
  },
  {
   "cell_type": "markdown",
   "source": [
    "## Setup Bouts table"
   ],
   "metadata": {
    "collapsed": false
   }
  },
  {
   "cell_type": "code",
   "execution_count": 22,
   "outputs": [
    {
     "name": "stdout",
     "output_type": "stream",
     "text": [
      "<class 'pandas.core.frame.DataFrame'>\n",
      "RangeIndex: 49131 entries, 0 to 49130\n",
      "Data columns (total 13 columns):\n",
      " #   Column           Non-Null Count  Dtype  \n",
      "---  ------           --------------  -----  \n",
      " 0   fencer_ID        49131 non-null  int64  \n",
      " 1   opp_ID           49131 non-null  int64  \n",
      " 2   fencer_age       49131 non-null  int64  \n",
      " 3   opp_age          49131 non-null  int64  \n",
      " 4   fencer_score     49131 non-null  int64  \n",
      " 5   opp_score        49131 non-null  int64  \n",
      " 6   winner_ID        49131 non-null  int64  \n",
      " 7   fencer_curr_pts  49131 non-null  float64\n",
      " 8   opp_curr_pts     49131 non-null  float64\n",
      " 9   tournament_ID    49131 non-null  object \n",
      " 10  pool_ID          49131 non-null  int64  \n",
      " 11  upset            49131 non-null  bool   \n",
      " 12  date             49131 non-null  object \n",
      "dtypes: bool(1), float64(2), int64(8), object(2)\n",
      "memory usage: 4.5+ MB\n"
     ]
    }
   ],
   "source": [
    "bouts.info()"
   ],
   "metadata": {
    "collapsed": false
   }
  },
  {
   "cell_type": "code",
   "execution_count": 26,
   "outputs": [],
   "source": [
    "bouts_df = bouts.copy()"
   ],
   "metadata": {
    "collapsed": false
   }
  },
  {
   "cell_type": "code",
   "execution_count": 27,
   "outputs": [],
   "source": [
    "# Convert winner_ID to first_wins\n",
    "bouts_df['first_wins'] = bouts_df['fencer_ID'] == bouts_df['winner_ID']\n",
    "bouts_df['first_wins'] = bouts_df['first_wins'].astype('category')"
   ],
   "metadata": {
    "collapsed": false
   }
  },
  {
   "cell_type": "code",
   "execution_count": 28,
   "outputs": [
    {
     "name": "stdout",
     "output_type": "stream",
     "text": [
      "<class 'pandas.core.frame.DataFrame'>\n",
      "RangeIndex: 49131 entries, 0 to 49130\n",
      "Data columns (total 14 columns):\n",
      " #   Column           Non-Null Count  Dtype   \n",
      "---  ------           --------------  -----   \n",
      " 0   fencer_ID        49131 non-null  int64   \n",
      " 1   opp_ID           49131 non-null  int64   \n",
      " 2   fencer_age       49131 non-null  int64   \n",
      " 3   opp_age          49131 non-null  int64   \n",
      " 4   fencer_score     49131 non-null  int64   \n",
      " 5   opp_score        49131 non-null  int64   \n",
      " 6   winner_ID        49131 non-null  int64   \n",
      " 7   fencer_curr_pts  49131 non-null  float64 \n",
      " 8   opp_curr_pts     49131 non-null  float64 \n",
      " 9   tournament_ID    49131 non-null  object  \n",
      " 10  pool_ID          49131 non-null  int64   \n",
      " 11  upset            49131 non-null  bool    \n",
      " 12  date             49131 non-null  object  \n",
      " 13  first_wins       49131 non-null  category\n",
      "dtypes: bool(1), category(1), float64(2), int64(8), object(2)\n",
      "memory usage: 4.6+ MB\n"
     ]
    }
   ],
   "source": [
    "bouts_df.info()"
   ],
   "metadata": {
    "collapsed": false
   }
  },
  {
   "cell_type": "code",
   "execution_count": null,
   "outputs": [],
   "source": [
    "# Trim bouts columns\n",
    "bouts_df = bouts_df.drop(['winner_ID', 'date', 'upset', 'pool_ID'], axis=1)"
   ],
   "metadata": {
    "collapsed": false
   }
  },
  {
   "cell_type": "markdown",
   "source": [
    "## Join the bouts to the users bio\n",
    "\n",
    "```\n",
    "pythondf = combats.merge(pokemon1, left_on='First_pokemon', right_on='id')\n",
    "df = df.rename(columns={col:col+'_1' for col in pokemon1.columns})\n",
    "df = df.merge(pokemon1, left_on='Second_pokemon', right_on='id')\n",
    "df = df.rename(columns={col:col+'_2' for col in pokemon1.columns})\n",
    "```"
   ],
   "metadata": {
    "collapsed": false
   }
  },
  {
   "cell_type": "code",
   "execution_count": 24,
   "outputs": [
    {
     "name": "stdout",
     "output_type": "stream",
     "text": [
      "<class 'pandas.core.frame.DataFrame'>\n",
      "Int64Index: 49131 entries, 0 to 49130\n",
      "Data columns (total 19 columns):\n",
      " #   Column           Non-Null Count  Dtype  \n",
      "---  ------           --------------  -----  \n",
      " 0   fencer_ID        49131 non-null  int64  \n",
      " 1   opp_ID           49131 non-null  int64  \n",
      " 2   fencer_age       49131 non-null  int64  \n",
      " 3   opp_age          49131 non-null  int64  \n",
      " 4   fencer_score     49131 non-null  int64  \n",
      " 5   opp_score        49131 non-null  int64  \n",
      " 6   winner_ID        49131 non-null  int64  \n",
      " 7   fencer_curr_pts  49131 non-null  float64\n",
      " 8   opp_curr_pts     49131 non-null  float64\n",
      " 9   tournament_ID    49131 non-null  object \n",
      " 10  pool_ID          49131 non-null  int64  \n",
      " 11  upset            49131 non-null  bool   \n",
      " 12  date             49131 non-null  object \n",
      " 13  country_1        49131 non-null  object \n",
      " 14  hand_1           49131 non-null  object \n",
      " 15  age_1            49131 non-null  int64  \n",
      " 16  country_2        49131 non-null  object \n",
      " 17  hand_2           49125 non-null  object \n",
      " 18  age_2            49131 non-null  int64  \n",
      "dtypes: bool(1), float64(2), int64(10), object(6)\n",
      "memory usage: 7.2+ MB\n"
     ]
    }
   ],
   "source": [
    "df = bouts.merge(bio, left_on='fencer_ID', right_on='id')\n",
    "df = df.rename(columns={col:col+'_1' for col in bio.columns})\n",
    "\n",
    "df = df.merge(bio, left_on='opp_ID', right_on='id')\n",
    "df = df.rename(columns={col:col+'_2' for col in bio.columns})\n",
    "df.info()"
   ],
   "metadata": {
    "collapsed": false
   }
  },
  {
   "cell_type": "code",
   "execution_count": 30,
   "outputs": [
    {
     "name": "stdout",
     "output_type": "stream",
     "text": [
      " Volume in drive G is Games\n",
      " Volume Serial Number is 90FA-ACF6\n",
      "\n",
      " Directory of G:\\code\\fencing-machine-learning\\notebooks\n",
      "\n",
      "10/06/2022  10:06 AM    <DIR>          .\n",
      "10/06/2022  10:06 AM    <DIR>          ..\n",
      "09/27/2022  03:02 PM                 0 .gitkeep\n",
      "10/05/2022  01:13 PM        11,790,835 eda.ipynb\n",
      "10/06/2022  10:06 AM            13,419 model.ipynb\n",
      "               3 File(s)     11,804,254 bytes\n",
      "               2 Dir(s)  2,882,482,384,896 bytes free\n"
     ]
    }
   ],
   "source": [
    "!dir"
   ],
   "metadata": {
    "collapsed": false
   }
  },
  {
   "cell_type": "code",
   "execution_count": null,
   "outputs": [],
   "source": [],
   "metadata": {
    "collapsed": false
   }
  }
 ],
 "metadata": {
  "kernelspec": {
   "display_name": "Python 3",
   "language": "python",
   "name": "python3"
  },
  "language_info": {
   "codemirror_mode": {
    "name": "ipython",
    "version": 2
   },
   "file_extension": ".py",
   "mimetype": "text/x-python",
   "name": "python",
   "nbconvert_exporter": "python",
   "pygments_lexer": "ipython2",
   "version": "2.7.6"
  }
 },
 "nbformat": 4,
 "nbformat_minor": 0
}
